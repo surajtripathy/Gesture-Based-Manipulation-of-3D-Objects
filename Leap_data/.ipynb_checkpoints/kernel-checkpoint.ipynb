{
 "cells": [
  {
   "cell_type": "code",
   "execution_count": 1,
   "metadata": {
    "_cell_guid": "b1076dfc-b9ad-4769-8c92-a6c4dae69d19",
    "_uuid": "8f2839f25d086af736a60e9eeb907d3b93b6e0e5"
   },
   "outputs": [
    {
     "data": {
      "text/plain": [
       "{'test': 0, 'train': 1, 'val': 2}"
      ]
     },
     "execution_count": 1,
     "metadata": {},
     "output_type": "execute_result"
    }
   ],
   "source": [
    "import numpy as np # We'll be storing our data as numpy arrays\n",
    "import os # For handling directories\n",
    "from PIL import Image # For handling the images\n",
    "import matplotlib.pyplot as plt\n",
    "import matplotlib.image as mpimg # Plotting\n",
    "lookup = dict()\n",
    "reverselookup = dict()\n",
    "count = 0\n",
    "#print(os.listdir('../input/leapgestrecog/leapGestRecog/01/'))\n",
    "for j in os.listdir('./leapgestrecog/leapGestRecog/01/'):\n",
    "    if not j.startswith('.'): # If running this code locally, this is to \n",
    "                              # ensure you aren't reading in hidden folders\n",
    "        lookup[j] = count\n",
    "        reverselookup[count] = j\n",
    "        count = count + 1\n",
    "lookup"
   ]
  },
  {
   "cell_type": "code",
   "execution_count": 12,
   "metadata": {
    "_cell_guid": "79c7e3d0-c299-4dcb-8224-4455121ee9b0",
    "_uuid": "d629ff2d2480ee46fbb7e2d37f6b5fab8052498a"
   },
   "outputs": [],
   "source": [
    "x_data = []\n",
    "y_data = []\n",
    "#datacount = 0 # We'll use this to tally how many images are in our dataset\n",
    "import numpy as np\n",
    "from sklearn.model_selection import train_test_split\n",
    "from tensorflow import keras\n",
    "from tensorflow.python.keras.models import Sequential\n",
    "from tensorflow.python.keras.layers import Dense, Flatten, Conv2D, Dropout, MaxPooling2D\n",
    "from tensorflow.keras.preprocessing.image import ImageDataGenerator\n",
    "img_rows, img_cols = 120 , 320\n",
    "num_classes = 10"
   ]
  },
  {
   "cell_type": "code",
   "execution_count": 16,
   "metadata": {
    "_uuid": "82dc35c8fa5983dd34dd591ba2cda8ba5732c744"
   },
   "outputs": [
    {
     "name": "stdout",
     "output_type": "stream",
     "text": [
      "Found 1800 images belonging to 10 classes.\n",
      "Found 200 images belonging to 10 classes.\n"
     ]
    }
   ],
   "source": [
    "train_datagen = ImageDataGenerator(rescale=1./255)\n",
    "eval_datagen = ImageDataGenerator(rescale=1./255)\n",
    "\n",
    "train_generator = train_datagen.flow_from_directory(\n",
    "        './leapgestrecog/leapGestRecog/01/train/',\n",
    "        target_size=(img_rows, img_cols),\n",
    "        batch_size= 16,\n",
    "        color_mode = 'grayscale',\n",
    "        class_mode='categorical')\n",
    "valid_generator = train_datagen.flow_from_directory(\n",
    "        './leapgestrecog/leapGestRecog/01/val/',\n",
    "        target_size=(img_rows, img_cols),\n",
    "        batch_size=16,\n",
    "        color_mode = 'grayscale',\n",
    "        class_mode='categorical')\n",
    "model = Sequential()\n",
    "model.add(Conv2D(32, kernel_size=(3, 3),\n",
    "                 activation='relu',\n",
    "                 input_shape=(img_rows, img_cols, 1)))\n",
    "model.add(MaxPooling2D((2, 2)))\n",
    "#model.add(Dropout(0.15))\n",
    "model.add(Conv2D(64, kernel_size=(3, 3), activation='relu', strides = (2,2)))\n",
    "#model.add(Dropout(0.25))\n",
    "model.add(MaxPooling2D((2, 2)))\n",
    "model.add(Conv2D(64, kernel_size=(3, 3), activation='relu', strides = (2,2)))\n",
    "model.add(MaxPooling2D((2, 2)))\n",
    "#model.add(Dropout(0.25))\n",
    "model.add(Flatten())\n",
    "model.add(Dense(128, activation='relu'))\n",
    "model.add(Dense(num_classes, activation='softmax'))\n",
    "\n",
    "model.compile(loss=keras.losses.categorical_crossentropy,\n",
    "              optimizer='adam',\n",
    "              metrics=['accuracy'])\n"
   ]
  },
  {
   "cell_type": "code",
   "execution_count": null,
   "metadata": {
    "_uuid": "b93ec62b6a97f32ad64581b69ddef34255655123"
   },
   "outputs": [],
   "source": [
    "model.fit_generator(\n",
    "        train_generator,\n",
    "        validation_data=valid_generator,\n",
    "        epochs=10)"
   ]
  },
  {
   "cell_type": "code",
   "execution_count": null,
   "metadata": {
    "_uuid": "d89bc9bd07851a9282dd3989c907536c35a89639"
   },
   "outputs": [],
   "source": [
    "model.save(\"Leap_motion_model.h5\")"
   ]
  },
  {
   "cell_type": "code",
   "execution_count": null,
   "metadata": {
    "_uuid": "5cf4ab29d4db00a5a39e097b73eb3559258b9464"
   },
   "outputs": [],
   "source": [
    "eval_generator = eval_datagen.flow_from_directory(\n",
    "        './leapgestrecog/leapGestRecog/01/test/',\n",
    "        target_size=(img_rows, img_cols),\n",
    "        color_mode = 'grayscale')\n",
    "        #batch_size=32,\n",
    "        #class_mode='categorical')"
   ]
  },
  {
   "cell_type": "code",
   "execution_count": null,
   "metadata": {
    "_uuid": "6301dad2356a06a84bd37e05a564d7528a171233"
   },
   "outputs": [],
   "source": [
    "[loss,score] = model.evaluate_generator(eval_generator)\n",
    "print(\"Loss: \"+ str(loss) +\" Accuracy: \" + str(score))"
   ]
  }
 ],
 "metadata": {
  "kernelspec": {
   "display_name": "Python 3",
   "language": "python",
   "name": "python3"
  },
  "language_info": {
   "codemirror_mode": {
    "name": "ipython",
    "version": 3
   },
   "file_extension": ".py",
   "mimetype": "text/x-python",
   "name": "python",
   "nbconvert_exporter": "python",
   "pygments_lexer": "ipython3",
   "version": "3.6.7"
  }
 },
 "nbformat": 4,
 "nbformat_minor": 1
}
