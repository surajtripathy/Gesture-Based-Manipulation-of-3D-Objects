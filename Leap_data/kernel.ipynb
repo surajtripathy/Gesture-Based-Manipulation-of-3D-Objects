{
 "cells": [
  {
   "cell_type": "code",
   "execution_count": 1,
   "metadata": {
    "_cell_guid": "b1076dfc-b9ad-4769-8c92-a6c4dae69d19",
    "_uuid": "8f2839f25d086af736a60e9eeb907d3b93b6e0e5"
   },
   "outputs": [
    {
     "data": {
      "text/plain": [
       "{'test': 0, 'train': 1, 'val': 2}"
      ]
     },
     "execution_count": 1,
     "metadata": {},
     "output_type": "execute_result"
    }
   ],
   "source": [
    "import numpy as np # We'll be storing our data as numpy arrays\n",
    "import os # For handling directories\n",
    "from PIL import Image # For handling the images\n",
    "import matplotlib.pyplot as plt\n",
    "import matplotlib.image as mpimg # Plotting\n",
    "lookup = dict()\n",
    "reverselookup = dict()\n",
    "count = 0\n",
    "#print(os.listdir('../input/leapgestrecog/leapGestRecog/01/'))\n",
    "for j in os.listdir('./output/'):\n",
    "    if not j.startswith('.'): # If running this code locally, this is to \n",
    "                              # ensure you aren't reading in hidden folders\n",
    "        lookup[j] = count\n",
    "        reverselookup[count] = j\n",
    "        count = count + 1\n",
    "lookup"
   ]
  },
  {
   "cell_type": "code",
   "execution_count": 2,
   "metadata": {
    "_cell_guid": "79c7e3d0-c299-4dcb-8224-4455121ee9b0",
    "_uuid": "d629ff2d2480ee46fbb7e2d37f6b5fab8052498a"
   },
   "outputs": [],
   "source": [
    "import numpy as np\n",
    "from sklearn.model_selection import train_test_split\n",
    "from tensorflow import keras\n",
    "from tensorflow.python.keras.models import Sequential\n",
    "from tensorflow.python.keras.layers import Dense, Flatten, Conv2D, Dropout, MaxPooling2D\n",
    "from tensorflow.keras.preprocessing.image import ImageDataGenerator\n",
    "img_rows, img_cols = 120 , 320\n",
    "num_classes = 3"
   ]
  },
  {
   "cell_type": "code",
   "execution_count": 3,
   "metadata": {
    "_uuid": "82dc35c8fa5983dd34dd591ba2cda8ba5732c744"
   },
   "outputs": [
    {
     "name": "stdout",
     "output_type": "stream",
     "text": [
      "Found 2400 images belonging to 3 classes.\n",
      "Found 300 images belonging to 3 classes.\n"
     ]
    }
   ],
   "source": [
    "train_datagen = ImageDataGenerator(rescale=1./255)\n",
    "valid_datagen = ImageDataGenerator(rescale=1./255)\n",
    "eval_datagen = ImageDataGenerator(rescale=1./255)\n",
    "\n",
    "train_generator = train_datagen.flow_from_directory(\n",
    "        './output/train/',\n",
    "        target_size=(img_rows, img_cols),\n",
    "        batch_size= 32,\n",
    "        color_mode = 'grayscale',\n",
    "        class_mode='categorical')\n",
    "valid_generator = valid_datagen.flow_from_directory(\n",
    "        './output/val/',\n",
    "        target_size=(img_rows, img_cols),\n",
    "        batch_size= 32,\n",
    "        color_mode = 'grayscale',\n",
    "        class_mode='categorical')\n",
    "model = Sequential()\n",
    "model.add(Conv2D(32, kernel_size=(3, 3),\n",
    "                 activation='relu',\n",
    "                 input_shape=(img_rows, img_cols, 1)))\n",
    "model.add(MaxPooling2D((2, 2)))\n",
    "model.add(Dropout(0.25))\n",
    "model.add(Conv2D(64, kernel_size=(3, 3), activation='relu', strides = (2,2)))\n",
    "model.add(MaxPooling2D((2, 2)))\n",
    "model.add(Dropout(0.25))\n",
    "model.add(Conv2D(64, kernel_size=(3, 3), activation='relu', strides = (2,2)))\n",
    "model.add(MaxPooling2D((2, 2)))\n",
    "model.add(Dropout(0.25))\n",
    "model.add(Flatten())\n",
    "model.add(Dense(128, activation='relu'))\n",
    "model.add(Dense(num_classes, activation='softmax'))\n",
    "\n",
    "model.compile(loss=keras.losses.categorical_crossentropy,\n",
    "              optimizer='adam',\n",
    "              metrics=['accuracy'])\n"
   ]
  },
  {
   "cell_type": "code",
   "execution_count": 4,
   "metadata": {
    "_uuid": "b93ec62b6a97f32ad64581b69ddef34255655123"
   },
   "outputs": [
    {
     "name": "stdout",
     "output_type": "stream",
     "text": [
      "Epoch 1/2\n",
      "75/75 [==============================] - 115s 2s/step - loss: 0.7796 - acc: 0.6200 - val_loss: 0.2896 - val_acc: 0.9233\n",
      "Epoch 2/2\n",
      "75/75 [==============================] - 110s 1s/step - loss: 0.1879 - acc: 0.9367 - val_loss: 0.0526 - val_acc: 0.9867\n"
     ]
    },
    {
     "data": {
      "text/plain": [
       "<tensorflow.python.keras.callbacks.History at 0x7f4b75812b38>"
      ]
     },
     "execution_count": 4,
     "metadata": {},
     "output_type": "execute_result"
    }
   ],
   "source": [
    "model.fit_generator(\n",
    "        train_generator,\n",
    "        validation_data=valid_generator,\n",
    "        epochs=2)"
   ]
  },
  {
   "cell_type": "code",
   "execution_count": 5,
   "metadata": {
    "_uuid": "d89bc9bd07851a9282dd3989c907536c35a89639"
   },
   "outputs": [],
   "source": [
    "model.save(\"Leap_motion_model.h5\")"
   ]
  },
  {
   "cell_type": "code",
   "execution_count": 6,
   "metadata": {
    "_uuid": "5cf4ab29d4db00a5a39e097b73eb3559258b9464"
   },
   "outputs": [
    {
     "name": "stdout",
     "output_type": "stream",
     "text": [
      "Found 300 images belonging to 3 classes.\n"
     ]
    }
   ],
   "source": [
    "eval_generator = eval_datagen.flow_from_directory(\n",
    "        './output/test/',\n",
    "        target_size=(img_rows, img_cols),\n",
    "        color_mode = 'grayscale')\n",
    "        #batch_size=32,\n",
    "        #class_mode='categorical')"
   ]
  },
  {
   "cell_type": "code",
   "execution_count": 7,
   "metadata": {
    "_uuid": "6301dad2356a06a84bd37e05a564d7528a171233"
   },
   "outputs": [
    {
     "name": "stdout",
     "output_type": "stream",
     "text": [
      "Loss: 0.044668314407269157 Accuracy: 0.99\n"
     ]
    }
   ],
   "source": [
    "[loss,score] = model.evaluate_generator(eval_generator)\n",
    "print(\"Loss: \"+ str(loss) +\" Accuracy: \" + str(score))"
   ]
  },
  {
   "cell_type": "code",
   "execution_count": null,
   "metadata": {},
   "outputs": [],
   "source": []
  }
 ],
 "metadata": {
  "kernelspec": {
   "display_name": "Python 3",
   "language": "python",
   "name": "python3"
  },
  "language_info": {
   "codemirror_mode": {
    "name": "ipython",
    "version": 3
   },
   "file_extension": ".py",
   "mimetype": "text/x-python",
   "name": "python",
   "nbconvert_exporter": "python",
   "pygments_lexer": "ipython3",
   "version": "3.6.7"
  }
 },
 "nbformat": 4,
 "nbformat_minor": 1
}
